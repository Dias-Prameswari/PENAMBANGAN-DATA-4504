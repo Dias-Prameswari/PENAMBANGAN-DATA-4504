{
 "cells": [
  {
   "cell_type": "markdown",
   "metadata": {},
   "source": [
    "code judul 1 = prediksi kinerja gas. masih belum akurat"
   ]
  },
  {
   "cell_type": "code",
   "execution_count": 27,
   "metadata": {},
   "outputs": [],
   "source": [
    "import pandas as pd\n",
    "import numpy as np\n",
    "from sklearn.preprocessing import MinMaxScaler\n",
    "from tensorflow.keras.models import Sequential\n",
    "from tensorflow.keras.layers import LSTM, Dense\n"
   ]
  },
  {
   "cell_type": "code",
   "execution_count": 28,
   "metadata": {},
   "outputs": [],
   "source": [
    "# Membaca semua dataset\n",
    "data_paths = [\n",
    "    r\"C:\\Users\\HP\\Documents\\data mining\\uts-uas\\train\\ex_1.csv\",\n",
    "    r\"C:\\Users\\HP\\Documents\\data mining\\uts-uas\\train\\ex_9.csv\",\n",
    "    r\"C:\\Users\\HP\\Documents\\data mining\\uts-uas\\train\\ex_20.csv\",\n",
    "    r\"C:\\Users\\HP\\Documents\\data mining\\uts-uas\\train\\ex_21.csv\",\n",
    "    r\"C:\\Users\\HP\\Documents\\data mining\\uts-uas\\train\\ex_23.csv\",\n",
    "    r\"C:\\Users\\HP\\Documents\\data mining\\uts-uas\\train\\ex_24.csv\"\n",
    "]\n"
   ]
  },
  {
   "cell_type": "code",
   "execution_count": 29,
   "metadata": {},
   "outputs": [
    {
     "name": "stdout",
     "output_type": "stream",
     "text": [
      "Kolom dalam dataset C:\\Users\\HP\\Documents\\data mining\\uts-uas\\train\\ex_1.csv:\n",
      "['time', 'input_voltage', 'el_power']\n",
      "Kolom dalam dataset C:\\Users\\HP\\Documents\\data mining\\uts-uas\\train\\ex_9.csv:\n",
      "['time', 'input_voltage', 'el_power']\n",
      "Kolom dalam dataset C:\\Users\\HP\\Documents\\data mining\\uts-uas\\train\\ex_20.csv:\n",
      "['time', 'input_voltage', 'el_power']\n",
      "Kolom dalam dataset C:\\Users\\HP\\Documents\\data mining\\uts-uas\\train\\ex_21.csv:\n",
      "['time', 'input_voltage', 'el_power']\n",
      "Kolom dalam dataset C:\\Users\\HP\\Documents\\data mining\\uts-uas\\train\\ex_23.csv:\n",
      "['time', 'input_voltage', 'el_power']\n",
      "Kolom dalam dataset C:\\Users\\HP\\Documents\\data mining\\uts-uas\\train\\ex_24.csv:\n",
      "['time', 'input_voltage', 'el_power']\n"
     ]
    }
   ],
   "source": [
    "# Membaca dan menggabungkan dataset\n",
    "datasets = []\n",
    "for path in data_paths:\n",
    "    # Baca dataset\n",
    "    df = pd.read_csv(path)\n",
    "    \n",
    "    # Cek nama kolom yang tersedia\n",
    "    print(f\"Kolom dalam dataset {path}:\")\n",
    "    print(df.columns.tolist())\n",
    "    \n",
    "    # Pilih kolom yang diinginkan\n",
    "    df = df[['time', 'input_voltage', 'el_power']]  # Pisahkan nama kolom\n",
    "    datasets.append(df)"
   ]
  },
  {
   "cell_type": "code",
   "execution_count": 30,
   "metadata": {},
   "outputs": [],
   "source": [
    "# Menggabungkan semua dataset\n",
    "train_data = pd.concat(datasets, ignore_index=True)"
   ]
  },
  {
   "cell_type": "code",
   "execution_count": 31,
   "metadata": {},
   "outputs": [
    {
     "name": "stdout",
     "output_type": "stream",
     "text": [
      "\n",
      "Shape data sebelum preprocessing: (52940, 3)\n",
      "\n",
      "Sample data:\n",
      "        time  input_voltage     el_power\n",
      "0  810.07028           10.0  1228.791720\n",
      "1  811.06938           10.0  1223.041745\n",
      "2  812.06848           10.0  1244.960866\n",
      "3  813.06758           10.0  1229.259058\n",
      "4  814.06668           10.0  1248.117024\n"
     ]
    }
   ],
   "source": [
    "# Cetak informasi data\n",
    "print(\"\\nShape data sebelum preprocessing:\", train_data.shape)\n",
    "print(\"\\nSample data:\")\n",
    "print(train_data.head())\n"
   ]
  },
  {
   "cell_type": "code",
   "execution_count": 32,
   "metadata": {},
   "outputs": [
    {
     "name": "stdout",
     "output_type": "stream",
     "text": [
      "\n",
      "Shape data setelah scaling: (52940, 2)\n"
     ]
    }
   ],
   "source": [
    "# Preprocessing data - hanya gunakan input_voltage dan el_power untuk prediksi\n",
    "features = train_data[['input_voltage', 'el_power']]\n",
    "scaler = MinMaxScaler()\n",
    "train_data_scaled = scaler.fit_transform(features)\n",
    "print(\"\\nShape data setelah scaling:\", train_data_scaled.shape)"
   ]
  },
  {
   "cell_type": "code",
   "execution_count": 33,
   "metadata": {},
   "outputs": [],
   "source": [
    "def create_sequences(data, seq_length):\n",
    "    sequences = []\n",
    "    targets = []\n",
    "    \n",
    "    for i in range(len(data) - seq_length):\n",
    "        # Mengambil sequence\n",
    "        seq = data[i:(i + seq_length)]\n",
    "        # Mengambil target (nilai selanjutnya setelah sequence)\n",
    "        target = data[i + seq_length]\n",
    "        sequences.append(seq)\n",
    "        targets.append(target)\n",
    "    \n",
    "    return np.array(sequences), np.array(targets)\n"
   ]
  },
  {
   "cell_type": "code",
   "execution_count": 34,
   "metadata": {},
   "outputs": [],
   "source": [
    "# Membuat sequence data\n",
    "seq_length = 10\n",
    "X_train, y_train = create_sequences(train_data_scaled, seq_length)"
   ]
  },
  {
   "cell_type": "code",
   "execution_count": 35,
   "metadata": {},
   "outputs": [
    {
     "name": "stdout",
     "output_type": "stream",
     "text": [
      "\n",
      "Shape X_train sebelum reshape: (52930, 10, 2)\n",
      "\n",
      "Shape y_train: (52930, 2)\n"
     ]
    }
   ],
   "source": [
    "# Cetak informasi bentuk data\n",
    "print(\"\\nShape X_train sebelum reshape:\", X_train.shape)\n",
    "print(\"\\nShape y_train:\", y_train.shape)"
   ]
  },
  {
   "cell_type": "code",
   "execution_count": 36,
   "metadata": {},
   "outputs": [
    {
     "name": "stdout",
     "output_type": "stream",
     "text": [
      "Shape X_train setelah reshape: (52930, 10, 2)\n"
     ]
    }
   ],
   "source": [
    "# Reshape data untuk LSTM [samples, time steps, features]\n",
    "X_train = np.array(X_train)\n",
    "y_train = np.array(y_train)\n",
    "\n",
    "print(\"Shape X_train setelah reshape:\", X_train.shape)"
   ]
  },
  {
   "cell_type": "code",
   "execution_count": 37,
   "metadata": {},
   "outputs": [
    {
     "name": "stderr",
     "output_type": "stream",
     "text": [
      "c:\\Users\\HP\\AppData\\Local\\Programs\\Python\\Python312\\Lib\\site-packages\\keras\\src\\layers\\rnn\\rnn.py:204: UserWarning: Do not pass an `input_shape`/`input_dim` argument to a layer. When using Sequential models, prefer using an `Input(shape)` object as the first layer in the model instead.\n",
      "  super().__init__(**kwargs)\n"
     ]
    },
    {
     "name": "stdout",
     "output_type": "stream",
     "text": [
      "\n",
      "Model summary:\n"
     ]
    },
    {
     "data": {
      "text/html": [
       "<pre style=\"white-space:pre;overflow-x:auto;line-height:normal;font-family:Menlo,'DejaVu Sans Mono',consolas,'Courier New',monospace\"><span style=\"font-weight: bold\">Model: \"sequential\"</span>\n",
       "</pre>\n"
      ],
      "text/plain": [
       "\u001b[1mModel: \"sequential\"\u001b[0m\n"
      ]
     },
     "metadata": {},
     "output_type": "display_data"
    },
    {
     "data": {
      "text/html": [
       "<pre style=\"white-space:pre;overflow-x:auto;line-height:normal;font-family:Menlo,'DejaVu Sans Mono',consolas,'Courier New',monospace\">┏━━━━━━━━━━━━━━━━━━━━━━━━━━━━━━━━━┳━━━━━━━━━━━━━━━━━━━━━━━━┳━━━━━━━━━━━━━━━┓\n",
       "┃<span style=\"font-weight: bold\"> Layer (type)                    </span>┃<span style=\"font-weight: bold\"> Output Shape           </span>┃<span style=\"font-weight: bold\">       Param # </span>┃\n",
       "┡━━━━━━━━━━━━━━━━━━━━━━━━━━━━━━━━━╇━━━━━━━━━━━━━━━━━━━━━━━━╇━━━━━━━━━━━━━━━┩\n",
       "│ lstm (<span style=\"color: #0087ff; text-decoration-color: #0087ff\">LSTM</span>)                     │ (<span style=\"color: #00d7ff; text-decoration-color: #00d7ff\">None</span>, <span style=\"color: #00af00; text-decoration-color: #00af00\">50</span>)             │        <span style=\"color: #00af00; text-decoration-color: #00af00\">10,600</span> │\n",
       "├─────────────────────────────────┼────────────────────────┼───────────────┤\n",
       "│ dense (<span style=\"color: #0087ff; text-decoration-color: #0087ff\">Dense</span>)                   │ (<span style=\"color: #00d7ff; text-decoration-color: #00d7ff\">None</span>, <span style=\"color: #00af00; text-decoration-color: #00af00\">2</span>)              │           <span style=\"color: #00af00; text-decoration-color: #00af00\">102</span> │\n",
       "└─────────────────────────────────┴────────────────────────┴───────────────┘\n",
       "</pre>\n"
      ],
      "text/plain": [
       "┏━━━━━━━━━━━━━━━━━━━━━━━━━━━━━━━━━┳━━━━━━━━━━━━━━━━━━━━━━━━┳━━━━━━━━━━━━━━━┓\n",
       "┃\u001b[1m \u001b[0m\u001b[1mLayer (type)                   \u001b[0m\u001b[1m \u001b[0m┃\u001b[1m \u001b[0m\u001b[1mOutput Shape          \u001b[0m\u001b[1m \u001b[0m┃\u001b[1m \u001b[0m\u001b[1m      Param #\u001b[0m\u001b[1m \u001b[0m┃\n",
       "┡━━━━━━━━━━━━━━━━━━━━━━━━━━━━━━━━━╇━━━━━━━━━━━━━━━━━━━━━━━━╇━━━━━━━━━━━━━━━┩\n",
       "│ lstm (\u001b[38;5;33mLSTM\u001b[0m)                     │ (\u001b[38;5;45mNone\u001b[0m, \u001b[38;5;34m50\u001b[0m)             │        \u001b[38;5;34m10,600\u001b[0m │\n",
       "├─────────────────────────────────┼────────────────────────┼───────────────┤\n",
       "│ dense (\u001b[38;5;33mDense\u001b[0m)                   │ (\u001b[38;5;45mNone\u001b[0m, \u001b[38;5;34m2\u001b[0m)              │           \u001b[38;5;34m102\u001b[0m │\n",
       "└─────────────────────────────────┴────────────────────────┴───────────────┘\n"
      ]
     },
     "metadata": {},
     "output_type": "display_data"
    },
    {
     "data": {
      "text/html": [
       "<pre style=\"white-space:pre;overflow-x:auto;line-height:normal;font-family:Menlo,'DejaVu Sans Mono',consolas,'Courier New',monospace\"><span style=\"font-weight: bold\"> Total params: </span><span style=\"color: #00af00; text-decoration-color: #00af00\">10,702</span> (41.80 KB)\n",
       "</pre>\n"
      ],
      "text/plain": [
       "\u001b[1m Total params: \u001b[0m\u001b[38;5;34m10,702\u001b[0m (41.80 KB)\n"
      ]
     },
     "metadata": {},
     "output_type": "display_data"
    },
    {
     "data": {
      "text/html": [
       "<pre style=\"white-space:pre;overflow-x:auto;line-height:normal;font-family:Menlo,'DejaVu Sans Mono',consolas,'Courier New',monospace\"><span style=\"font-weight: bold\"> Trainable params: </span><span style=\"color: #00af00; text-decoration-color: #00af00\">10,702</span> (41.80 KB)\n",
       "</pre>\n"
      ],
      "text/plain": [
       "\u001b[1m Trainable params: \u001b[0m\u001b[38;5;34m10,702\u001b[0m (41.80 KB)\n"
      ]
     },
     "metadata": {},
     "output_type": "display_data"
    },
    {
     "data": {
      "text/html": [
       "<pre style=\"white-space:pre;overflow-x:auto;line-height:normal;font-family:Menlo,'DejaVu Sans Mono',consolas,'Courier New',monospace\"><span style=\"font-weight: bold\"> Non-trainable params: </span><span style=\"color: #00af00; text-decoration-color: #00af00\">0</span> (0.00 B)\n",
       "</pre>\n"
      ],
      "text/plain": [
       "\u001b[1m Non-trainable params: \u001b[0m\u001b[38;5;34m0\u001b[0m (0.00 B)\n"
      ]
     },
     "metadata": {},
     "output_type": "display_data"
    }
   ],
   "source": [
    "# Membuat dan melatih model LSTM\n",
    "model = Sequential([\n",
    "    LSTM(50, activation='relu', input_shape=(seq_length, train_data_scaled.shape[1])),\n",
    "    Dense(train_data_scaled.shape[1])\n",
    "])\n",
    "\n",
    "model.compile(optimizer='adam', loss='mse')\n",
    "print(\"\\nModel summary:\")\n",
    "model.summary()"
   ]
  },
  {
   "cell_type": "code",
   "execution_count": 38,
   "metadata": {},
   "outputs": [
    {
     "name": "stdout",
     "output_type": "stream",
     "text": [
      "Epoch 1/100\n",
      "\u001b[1m1324/1324\u001b[0m \u001b[32m━━━━━━━━━━━━━━━━━━━━\u001b[0m\u001b[37m\u001b[0m \u001b[1m16s\u001b[0m 9ms/step - loss: 0.0225 - val_loss: 3.2062e-04\n",
      "Epoch 2/100\n",
      "\u001b[1m1324/1324\u001b[0m \u001b[32m━━━━━━━━━━━━━━━━━━━━\u001b[0m\u001b[37m\u001b[0m \u001b[1m11s\u001b[0m 8ms/step - loss: 4.6447e-04 - val_loss: 2.7125e-04\n",
      "Epoch 3/100\n",
      "\u001b[1m1324/1324\u001b[0m \u001b[32m━━━━━━━━━━━━━━━━━━━━\u001b[0m\u001b[37m\u001b[0m \u001b[1m19s\u001b[0m 7ms/step - loss: 3.8920e-04 - val_loss: 1.5189e-04\n",
      "Epoch 4/100\n",
      "\u001b[1m1324/1324\u001b[0m \u001b[32m━━━━━━━━━━━━━━━━━━━━\u001b[0m\u001b[37m\u001b[0m \u001b[1m10s\u001b[0m 7ms/step - loss: 3.0993e-04 - val_loss: 8.9446e-05\n",
      "Epoch 5/100\n",
      "\u001b[1m1324/1324\u001b[0m \u001b[32m━━━━━━━━━━━━━━━━━━━━\u001b[0m\u001b[37m\u001b[0m \u001b[1m9s\u001b[0m 7ms/step - loss: 2.6334e-04 - val_loss: 1.0247e-04\n",
      "Epoch 6/100\n",
      "\u001b[1m1324/1324\u001b[0m \u001b[32m━━━━━━━━━━━━━━━━━━━━\u001b[0m\u001b[37m\u001b[0m \u001b[1m10s\u001b[0m 8ms/step - loss: 1.4248e-04 - val_loss: 1.0907e-04\n",
      "Epoch 7/100\n",
      "\u001b[1m1324/1324\u001b[0m \u001b[32m━━━━━━━━━━━━━━━━━━━━\u001b[0m\u001b[37m\u001b[0m \u001b[1m11s\u001b[0m 8ms/step - loss: 2.0255e-04 - val_loss: 1.3406e-04\n",
      "Epoch 8/100\n",
      "\u001b[1m1324/1324\u001b[0m \u001b[32m━━━━━━━━━━━━━━━━━━━━\u001b[0m\u001b[37m\u001b[0m \u001b[1m19s\u001b[0m 7ms/step - loss: 1.8663e-04 - val_loss: 7.1671e-05\n",
      "Epoch 9/100\n",
      "\u001b[1m1324/1324\u001b[0m \u001b[32m━━━━━━━━━━━━━━━━━━━━\u001b[0m\u001b[37m\u001b[0m \u001b[1m10s\u001b[0m 7ms/step - loss: 1.7102e-04 - val_loss: 7.4004e-05\n",
      "Epoch 10/100\n",
      "\u001b[1m1324/1324\u001b[0m \u001b[32m━━━━━━━━━━━━━━━━━━━━\u001b[0m\u001b[37m\u001b[0m \u001b[1m10s\u001b[0m 7ms/step - loss: 1.7233e-04 - val_loss: 7.4449e-05\n",
      "Epoch 11/100\n",
      "\u001b[1m1324/1324\u001b[0m \u001b[32m━━━━━━━━━━━━━━━━━━━━\u001b[0m\u001b[37m\u001b[0m \u001b[1m11s\u001b[0m 8ms/step - loss: 1.3120e-04 - val_loss: 8.8666e-05\n",
      "Epoch 12/100\n",
      "\u001b[1m1324/1324\u001b[0m \u001b[32m━━━━━━━━━━━━━━━━━━━━\u001b[0m\u001b[37m\u001b[0m \u001b[1m19s\u001b[0m 7ms/step - loss: 1.8396e-04 - val_loss: 6.7762e-05\n",
      "Epoch 13/100\n",
      "\u001b[1m1324/1324\u001b[0m \u001b[32m━━━━━━━━━━━━━━━━━━━━\u001b[0m\u001b[37m\u001b[0m \u001b[1m10s\u001b[0m 8ms/step - loss: 1.9504e-04 - val_loss: 6.5548e-05\n",
      "Epoch 14/100\n",
      "\u001b[1m1324/1324\u001b[0m \u001b[32m━━━━━━━━━━━━━━━━━━━━\u001b[0m\u001b[37m\u001b[0m \u001b[1m9s\u001b[0m 7ms/step - loss: 1.4121e-04 - val_loss: 8.7785e-05\n",
      "Epoch 15/100\n",
      "\u001b[1m1324/1324\u001b[0m \u001b[32m━━━━━━━━━━━━━━━━━━━━\u001b[0m\u001b[37m\u001b[0m \u001b[1m11s\u001b[0m 8ms/step - loss: 2.9265e-04 - val_loss: 6.0317e-05\n",
      "Epoch 16/100\n",
      "\u001b[1m1324/1324\u001b[0m \u001b[32m━━━━━━━━━━━━━━━━━━━━\u001b[0m\u001b[37m\u001b[0m \u001b[1m11s\u001b[0m 8ms/step - loss: 1.8679e-04 - val_loss: 6.2451e-05\n",
      "Epoch 17/100\n",
      "\u001b[1m1324/1324\u001b[0m \u001b[32m━━━━━━━━━━━━━━━━━━━━\u001b[0m\u001b[37m\u001b[0m \u001b[1m20s\u001b[0m 8ms/step - loss: 1.8420e-04 - val_loss: 6.2666e-05\n",
      "Epoch 18/100\n",
      "\u001b[1m1324/1324\u001b[0m \u001b[32m━━━━━━━━━━━━━━━━━━━━\u001b[0m\u001b[37m\u001b[0m \u001b[1m10s\u001b[0m 7ms/step - loss: 1.6452e-04 - val_loss: 7.3876e-05\n",
      "Epoch 19/100\n",
      "\u001b[1m1324/1324\u001b[0m \u001b[32m━━━━━━━━━━━━━━━━━━━━\u001b[0m\u001b[37m\u001b[0m \u001b[1m10s\u001b[0m 7ms/step - loss: 1.9945e-04 - val_loss: 6.4735e-05\n",
      "Epoch 20/100\n",
      "\u001b[1m1324/1324\u001b[0m \u001b[32m━━━━━━━━━━━━━━━━━━━━\u001b[0m\u001b[37m\u001b[0m \u001b[1m10s\u001b[0m 8ms/step - loss: 2.1211e-04 - val_loss: 6.5642e-05\n",
      "Epoch 21/100\n",
      "\u001b[1m1324/1324\u001b[0m \u001b[32m━━━━━━━━━━━━━━━━━━━━\u001b[0m\u001b[37m\u001b[0m \u001b[1m10s\u001b[0m 8ms/step - loss: 1.3673e-04 - val_loss: 6.2349e-05\n",
      "Epoch 22/100\n",
      "\u001b[1m1324/1324\u001b[0m \u001b[32m━━━━━━━━━━━━━━━━━━━━\u001b[0m\u001b[37m\u001b[0m \u001b[1m11s\u001b[0m 8ms/step - loss: 1.8531e-04 - val_loss: 6.3031e-05\n",
      "Epoch 23/100\n",
      "\u001b[1m1324/1324\u001b[0m \u001b[32m━━━━━━━━━━━━━━━━━━━━\u001b[0m\u001b[37m\u001b[0m \u001b[1m20s\u001b[0m 7ms/step - loss: 1.3379e-04 - val_loss: 6.0971e-05\n",
      "Epoch 24/100\n",
      "\u001b[1m1324/1324\u001b[0m \u001b[32m━━━━━━━━━━━━━━━━━━━━\u001b[0m\u001b[37m\u001b[0m \u001b[1m11s\u001b[0m 8ms/step - loss: 1.8885e-04 - val_loss: 6.4342e-05\n",
      "Epoch 25/100\n",
      "\u001b[1m1324/1324\u001b[0m \u001b[32m━━━━━━━━━━━━━━━━━━━━\u001b[0m\u001b[37m\u001b[0m \u001b[1m11s\u001b[0m 8ms/step - loss: 1.2030e-04 - val_loss: 6.4215e-05\n",
      "Epoch 26/100\n",
      "\u001b[1m1324/1324\u001b[0m \u001b[32m━━━━━━━━━━━━━━━━━━━━\u001b[0m\u001b[37m\u001b[0m \u001b[1m19s\u001b[0m 8ms/step - loss: 3.1180e-04 - val_loss: 6.4807e-05\n",
      "Epoch 27/100\n",
      "\u001b[1m1324/1324\u001b[0m \u001b[32m━━━━━━━━━━━━━━━━━━━━\u001b[0m\u001b[37m\u001b[0m \u001b[1m10s\u001b[0m 8ms/step - loss: 2.9278e-04 - val_loss: 6.2980e-05\n",
      "Epoch 28/100\n",
      "\u001b[1m1324/1324\u001b[0m \u001b[32m━━━━━━━━━━━━━━━━━━━━\u001b[0m\u001b[37m\u001b[0m \u001b[1m10s\u001b[0m 7ms/step - loss: 1.4509e-04 - val_loss: 6.3002e-05\n",
      "Epoch 29/100\n",
      "\u001b[1m1324/1324\u001b[0m \u001b[32m━━━━━━━━━━━━━━━━━━━━\u001b[0m\u001b[37m\u001b[0m \u001b[1m10s\u001b[0m 8ms/step - loss: 1.5001e-04 - val_loss: 6.0106e-05\n",
      "Epoch 30/100\n",
      "\u001b[1m1324/1324\u001b[0m \u001b[32m━━━━━━━━━━━━━━━━━━━━\u001b[0m\u001b[37m\u001b[0m \u001b[1m10s\u001b[0m 7ms/step - loss: 1.4134e-04 - val_loss: 6.2940e-05\n",
      "Epoch 31/100\n",
      "\u001b[1m1324/1324\u001b[0m \u001b[32m━━━━━━━━━━━━━━━━━━━━\u001b[0m\u001b[37m\u001b[0m \u001b[1m11s\u001b[0m 8ms/step - loss: 1.7974e-04 - val_loss: 6.1556e-05\n",
      "Epoch 32/100\n",
      "\u001b[1m1324/1324\u001b[0m \u001b[32m━━━━━━━━━━━━━━━━━━━━\u001b[0m\u001b[37m\u001b[0m \u001b[1m11s\u001b[0m 8ms/step - loss: 1.8412e-04 - val_loss: 6.1837e-05\n",
      "Epoch 33/100\n",
      "\u001b[1m1324/1324\u001b[0m \u001b[32m━━━━━━━━━━━━━━━━━━━━\u001b[0m\u001b[37m\u001b[0m \u001b[1m19s\u001b[0m 7ms/step - loss: 2.2730e-04 - val_loss: 6.3478e-05\n",
      "Epoch 34/100\n",
      "\u001b[1m1324/1324\u001b[0m \u001b[32m━━━━━━━━━━━━━━━━━━━━\u001b[0m\u001b[37m\u001b[0m \u001b[1m11s\u001b[0m 8ms/step - loss: 1.1886e-04 - val_loss: 6.3483e-05\n",
      "Epoch 35/100\n",
      "\u001b[1m1324/1324\u001b[0m \u001b[32m━━━━━━━━━━━━━━━━━━━━\u001b[0m\u001b[37m\u001b[0m \u001b[1m10s\u001b[0m 7ms/step - loss: 2.0721e-04 - val_loss: 6.0901e-05\n",
      "Epoch 36/100\n",
      "\u001b[1m1324/1324\u001b[0m \u001b[32m━━━━━━━━━━━━━━━━━━━━\u001b[0m\u001b[37m\u001b[0m \u001b[1m11s\u001b[0m 8ms/step - loss: 1.2141e-04 - val_loss: 6.0909e-05\n",
      "Epoch 37/100\n",
      "\u001b[1m1324/1324\u001b[0m \u001b[32m━━━━━━━━━━━━━━━━━━━━\u001b[0m\u001b[37m\u001b[0m \u001b[1m10s\u001b[0m 8ms/step - loss: 1.5430e-04 - val_loss: 7.5178e-05\n",
      "Epoch 38/100\n",
      "\u001b[1m1324/1324\u001b[0m \u001b[32m━━━━━━━━━━━━━━━━━━━━\u001b[0m\u001b[37m\u001b[0m \u001b[1m10s\u001b[0m 8ms/step - loss: 1.4328e-04 - val_loss: 6.2939e-05\n",
      "Epoch 39/100\n",
      "\u001b[1m1324/1324\u001b[0m \u001b[32m━━━━━━━━━━━━━━━━━━━━\u001b[0m\u001b[37m\u001b[0m \u001b[1m11s\u001b[0m 8ms/step - loss: 1.7924e-04 - val_loss: 6.0026e-05\n",
      "Epoch 40/100\n",
      "\u001b[1m1324/1324\u001b[0m \u001b[32m━━━━━━━━━━━━━━━━━━━━\u001b[0m\u001b[37m\u001b[0m \u001b[1m10s\u001b[0m 8ms/step - loss: 1.9002e-04 - val_loss: 6.7218e-05\n",
      "Epoch 41/100\n",
      "\u001b[1m1324/1324\u001b[0m \u001b[32m━━━━━━━━━━━━━━━━━━━━\u001b[0m\u001b[37m\u001b[0m \u001b[1m21s\u001b[0m 8ms/step - loss: 1.6951e-04 - val_loss: 6.3682e-05\n",
      "Epoch 42/100\n",
      "\u001b[1m1324/1324\u001b[0m \u001b[32m━━━━━━━━━━━━━━━━━━━━\u001b[0m\u001b[37m\u001b[0m \u001b[1m11s\u001b[0m 8ms/step - loss: 1.1535e-04 - val_loss: 6.1085e-05\n",
      "Epoch 43/100\n",
      "\u001b[1m1324/1324\u001b[0m \u001b[32m━━━━━━━━━━━━━━━━━━━━\u001b[0m\u001b[37m\u001b[0m \u001b[1m11s\u001b[0m 8ms/step - loss: 1.8061e-04 - val_loss: 9.3656e-05\n",
      "Epoch 44/100\n",
      "\u001b[1m1324/1324\u001b[0m \u001b[32m━━━━━━━━━━━━━━━━━━━━\u001b[0m\u001b[37m\u001b[0m \u001b[1m20s\u001b[0m 8ms/step - loss: 1.2610e-04 - val_loss: 7.3540e-05\n",
      "Epoch 45/100\n",
      "\u001b[1m1324/1324\u001b[0m \u001b[32m━━━━━━━━━━━━━━━━━━━━\u001b[0m\u001b[37m\u001b[0m \u001b[1m11s\u001b[0m 8ms/step - loss: 1.8716e-04 - val_loss: 6.1296e-05\n",
      "Epoch 46/100\n",
      "\u001b[1m1324/1324\u001b[0m \u001b[32m━━━━━━━━━━━━━━━━━━━━\u001b[0m\u001b[37m\u001b[0m \u001b[1m20s\u001b[0m 8ms/step - loss: 1.7377e-04 - val_loss: 6.1195e-05\n",
      "Epoch 47/100\n",
      "\u001b[1m1324/1324\u001b[0m \u001b[32m━━━━━━━━━━━━━━━━━━━━\u001b[0m\u001b[37m\u001b[0m \u001b[1m10s\u001b[0m 8ms/step - loss: 8.7984e-05 - val_loss: 9.1310e-05\n",
      "Epoch 48/100\n",
      "\u001b[1m1324/1324\u001b[0m \u001b[32m━━━━━━━━━━━━━━━━━━━━\u001b[0m\u001b[37m\u001b[0m \u001b[1m11s\u001b[0m 8ms/step - loss: 1.2144e-04 - val_loss: 6.2396e-05\n",
      "Epoch 49/100\n",
      "\u001b[1m1324/1324\u001b[0m \u001b[32m━━━━━━━━━━━━━━━━━━━━\u001b[0m\u001b[37m\u001b[0m \u001b[1m20s\u001b[0m 8ms/step - loss: 1.6137e-04 - val_loss: 6.2257e-05\n",
      "Epoch 50/100\n",
      "\u001b[1m1324/1324\u001b[0m \u001b[32m━━━━━━━━━━━━━━━━━━━━\u001b[0m\u001b[37m\u001b[0m \u001b[1m12s\u001b[0m 9ms/step - loss: 1.1657e-04 - val_loss: 6.7627e-05\n",
      "Epoch 51/100\n",
      "\u001b[1m1324/1324\u001b[0m \u001b[32m━━━━━━━━━━━━━━━━━━━━\u001b[0m\u001b[37m\u001b[0m \u001b[1m19s\u001b[0m 8ms/step - loss: 1.7519e-04 - val_loss: 6.3413e-05\n",
      "Epoch 52/100\n",
      "\u001b[1m1324/1324\u001b[0m \u001b[32m━━━━━━━━━━━━━━━━━━━━\u001b[0m\u001b[37m\u001b[0m \u001b[1m11s\u001b[0m 8ms/step - loss: 2.2048e-04 - val_loss: 6.0841e-05\n",
      "Epoch 53/100\n",
      "\u001b[1m1324/1324\u001b[0m \u001b[32m━━━━━━━━━━━━━━━━━━━━\u001b[0m\u001b[37m\u001b[0m \u001b[1m21s\u001b[0m 9ms/step - loss: 1.5425e-04 - val_loss: 6.2970e-05\n",
      "Epoch 54/100\n",
      "\u001b[1m1324/1324\u001b[0m \u001b[32m━━━━━━━━━━━━━━━━━━━━\u001b[0m\u001b[37m\u001b[0m \u001b[1m11s\u001b[0m 9ms/step - loss: 1.5619e-04 - val_loss: 6.1727e-05\n",
      "Epoch 55/100\n",
      "\u001b[1m1324/1324\u001b[0m \u001b[32m━━━━━━━━━━━━━━━━━━━━\u001b[0m\u001b[37m\u001b[0m \u001b[1m20s\u001b[0m 8ms/step - loss: 1.5069e-04 - val_loss: 6.3261e-05\n",
      "Epoch 56/100\n",
      "\u001b[1m1324/1324\u001b[0m \u001b[32m━━━━━━━━━━━━━━━━━━━━\u001b[0m\u001b[37m\u001b[0m \u001b[1m11s\u001b[0m 8ms/step - loss: 1.3748e-04 - val_loss: 6.2886e-05\n",
      "Epoch 57/100\n",
      "\u001b[1m1324/1324\u001b[0m \u001b[32m━━━━━━━━━━━━━━━━━━━━\u001b[0m\u001b[37m\u001b[0m \u001b[1m20s\u001b[0m 8ms/step - loss: 1.7904e-04 - val_loss: 6.9022e-05\n",
      "Epoch 58/100\n",
      "\u001b[1m1324/1324\u001b[0m \u001b[32m━━━━━━━━━━━━━━━━━━━━\u001b[0m\u001b[37m\u001b[0m \u001b[1m11s\u001b[0m 8ms/step - loss: 2.1901e-04 - val_loss: 7.1380e-05\n",
      "Epoch 59/100\n",
      "\u001b[1m1324/1324\u001b[0m \u001b[32m━━━━━━━━━━━━━━━━━━━━\u001b[0m\u001b[37m\u001b[0m \u001b[1m21s\u001b[0m 8ms/step - loss: 1.5759e-04 - val_loss: 6.0706e-05\n",
      "Epoch 60/100\n",
      "\u001b[1m1324/1324\u001b[0m \u001b[32m━━━━━━━━━━━━━━━━━━━━\u001b[0m\u001b[37m\u001b[0m \u001b[1m11s\u001b[0m 8ms/step - loss: 1.6308e-04 - val_loss: 6.1451e-05\n",
      "Epoch 61/100\n",
      "\u001b[1m1324/1324\u001b[0m \u001b[32m━━━━━━━━━━━━━━━━━━━━\u001b[0m\u001b[37m\u001b[0m \u001b[1m12s\u001b[0m 9ms/step - loss: 2.0391e-04 - val_loss: 6.3636e-05\n",
      "Epoch 62/100\n",
      "\u001b[1m1324/1324\u001b[0m \u001b[32m━━━━━━━━━━━━━━━━━━━━\u001b[0m\u001b[37m\u001b[0m \u001b[1m13s\u001b[0m 10ms/step - loss: 1.9176e-04 - val_loss: 6.5126e-05\n",
      "Epoch 63/100\n",
      "\u001b[1m1324/1324\u001b[0m \u001b[32m━━━━━━━━━━━━━━━━━━━━\u001b[0m\u001b[37m\u001b[0m \u001b[1m18s\u001b[0m 8ms/step - loss: 1.7328e-04 - val_loss: 6.7661e-05\n",
      "Epoch 64/100\n",
      "\u001b[1m1324/1324\u001b[0m \u001b[32m━━━━━━━━━━━━━━━━━━━━\u001b[0m\u001b[37m\u001b[0m \u001b[1m11s\u001b[0m 8ms/step - loss: 2.1013e-04 - val_loss: 6.6594e-05\n",
      "Epoch 65/100\n",
      "\u001b[1m1324/1324\u001b[0m \u001b[32m━━━━━━━━━━━━━━━━━━━━\u001b[0m\u001b[37m\u001b[0m \u001b[1m11s\u001b[0m 8ms/step - loss: 1.7666e-04 - val_loss: 6.3204e-05\n",
      "Epoch 66/100\n",
      "\u001b[1m1324/1324\u001b[0m \u001b[32m━━━━━━━━━━━━━━━━━━━━\u001b[0m\u001b[37m\u001b[0m \u001b[1m11s\u001b[0m 9ms/step - loss: 2.1001e-04 - val_loss: 6.4327e-05\n",
      "Epoch 67/100\n",
      "\u001b[1m1324/1324\u001b[0m \u001b[32m━━━━━━━━━━━━━━━━━━━━\u001b[0m\u001b[37m\u001b[0m \u001b[1m23s\u001b[0m 10ms/step - loss: 1.3076e-04 - val_loss: 6.1395e-05\n",
      "Epoch 68/100\n",
      "\u001b[1m1324/1324\u001b[0m \u001b[32m━━━━━━━━━━━━━━━━━━━━\u001b[0m\u001b[37m\u001b[0m \u001b[1m20s\u001b[0m 10ms/step - loss: 1.1674e-04 - val_loss: 6.1071e-05\n",
      "Epoch 69/100\n",
      "\u001b[1m1324/1324\u001b[0m \u001b[32m━━━━━━━━━━━━━━━━━━━━\u001b[0m\u001b[37m\u001b[0m \u001b[1m13s\u001b[0m 9ms/step - loss: 1.1897e-04 - val_loss: 6.1394e-05\n",
      "Epoch 70/100\n",
      "\u001b[1m1324/1324\u001b[0m \u001b[32m━━━━━━━━━━━━━━━━━━━━\u001b[0m\u001b[37m\u001b[0m \u001b[1m19s\u001b[0m 8ms/step - loss: 1.6322e-04 - val_loss: 6.1103e-05\n",
      "Epoch 71/100\n",
      "\u001b[1m1324/1324\u001b[0m \u001b[32m━━━━━━━━━━━━━━━━━━━━\u001b[0m\u001b[37m\u001b[0m \u001b[1m12s\u001b[0m 9ms/step - loss: 1.4307e-04 - val_loss: 1.2802e-04\n",
      "Epoch 72/100\n",
      "\u001b[1m1324/1324\u001b[0m \u001b[32m━━━━━━━━━━━━━━━━━━━━\u001b[0m\u001b[37m\u001b[0m \u001b[1m21s\u001b[0m 9ms/step - loss: 2.4370e-04 - val_loss: 6.5733e-05\n",
      "Epoch 73/100\n",
      "\u001b[1m1324/1324\u001b[0m \u001b[32m━━━━━━━━━━━━━━━━━━━━\u001b[0m\u001b[37m\u001b[0m \u001b[1m12s\u001b[0m 9ms/step - loss: 1.9162e-04 - val_loss: 6.4857e-05\n",
      "Epoch 74/100\n",
      "\u001b[1m1324/1324\u001b[0m \u001b[32m━━━━━━━━━━━━━━━━━━━━\u001b[0m\u001b[37m\u001b[0m \u001b[1m20s\u001b[0m 9ms/step - loss: 1.5172e-04 - val_loss: 6.1997e-05\n",
      "Epoch 75/100\n",
      "\u001b[1m1324/1324\u001b[0m \u001b[32m━━━━━━━━━━━━━━━━━━━━\u001b[0m\u001b[37m\u001b[0m \u001b[1m12s\u001b[0m 9ms/step - loss: 1.1998e-04 - val_loss: 6.8368e-05\n",
      "Epoch 76/100\n",
      "\u001b[1m1324/1324\u001b[0m \u001b[32m━━━━━━━━━━━━━━━━━━━━\u001b[0m\u001b[37m\u001b[0m \u001b[1m20s\u001b[0m 8ms/step - loss: 2.1292e-04 - val_loss: 6.2391e-05\n",
      "Epoch 77/100\n",
      "\u001b[1m1324/1324\u001b[0m \u001b[32m━━━━━━━━━━━━━━━━━━━━\u001b[0m\u001b[37m\u001b[0m \u001b[1m12s\u001b[0m 9ms/step - loss: 2.2129e-04 - val_loss: 6.6126e-05\n",
      "Epoch 78/100\n",
      "\u001b[1m1324/1324\u001b[0m \u001b[32m━━━━━━━━━━━━━━━━━━━━\u001b[0m\u001b[37m\u001b[0m \u001b[1m20s\u001b[0m 9ms/step - loss: 1.3736e-04 - val_loss: 6.1918e-05\n",
      "Epoch 79/100\n",
      "\u001b[1m1324/1324\u001b[0m \u001b[32m━━━━━━━━━━━━━━━━━━━━\u001b[0m\u001b[37m\u001b[0m \u001b[1m21s\u001b[0m 9ms/step - loss: 1.8257e-04 - val_loss: 7.0551e-05\n",
      "Epoch 80/100\n",
      "\u001b[1m1324/1324\u001b[0m \u001b[32m━━━━━━━━━━━━━━━━━━━━\u001b[0m\u001b[37m\u001b[0m \u001b[1m20s\u001b[0m 9ms/step - loss: 1.7865e-04 - val_loss: 6.1827e-05\n",
      "Epoch 81/100\n",
      "\u001b[1m1324/1324\u001b[0m \u001b[32m━━━━━━━━━━━━━━━━━━━━\u001b[0m\u001b[37m\u001b[0m \u001b[1m22s\u001b[0m 10ms/step - loss: 1.7392e-04 - val_loss: 6.2871e-05\n",
      "Epoch 82/100\n",
      "\u001b[1m1324/1324\u001b[0m \u001b[32m━━━━━━━━━━━━━━━━━━━━\u001b[0m\u001b[37m\u001b[0m \u001b[1m12s\u001b[0m 9ms/step - loss: 2.3239e-04 - val_loss: 6.1666e-05\n",
      "Epoch 83/100\n",
      "\u001b[1m1324/1324\u001b[0m \u001b[32m━━━━━━━━━━━━━━━━━━━━\u001b[0m\u001b[37m\u001b[0m \u001b[1m13s\u001b[0m 10ms/step - loss: 2.2177e-04 - val_loss: 6.2164e-05\n",
      "Epoch 84/100\n",
      "\u001b[1m1324/1324\u001b[0m \u001b[32m━━━━━━━━━━━━━━━━━━━━\u001b[0m\u001b[37m\u001b[0m \u001b[1m20s\u001b[0m 9ms/step - loss: 1.9027e-04 - val_loss: 6.1012e-05\n",
      "Epoch 85/100\n",
      "\u001b[1m1324/1324\u001b[0m \u001b[32m━━━━━━━━━━━━━━━━━━━━\u001b[0m\u001b[37m\u001b[0m \u001b[1m21s\u001b[0m 9ms/step - loss: 1.8397e-04 - val_loss: 1.4513e-04\n",
      "Epoch 86/100\n",
      "\u001b[1m1324/1324\u001b[0m \u001b[32m━━━━━━━━━━━━━━━━━━━━\u001b[0m\u001b[37m\u001b[0m \u001b[1m21s\u001b[0m 10ms/step - loss: 1.6996e-04 - val_loss: 6.3613e-05\n",
      "Epoch 87/100\n",
      "\u001b[1m1324/1324\u001b[0m \u001b[32m━━━━━━━━━━━━━━━━━━━━\u001b[0m\u001b[37m\u001b[0m \u001b[1m20s\u001b[0m 9ms/step - loss: 1.2602e-04 - val_loss: 1.2686e-04\n",
      "Epoch 88/100\n",
      "\u001b[1m1324/1324\u001b[0m \u001b[32m━━━━━━━━━━━━━━━━━━━━\u001b[0m\u001b[37m\u001b[0m \u001b[1m21s\u001b[0m 9ms/step - loss: 1.4551e-04 - val_loss: 6.0690e-05\n",
      "Epoch 89/100\n",
      "\u001b[1m1324/1324\u001b[0m \u001b[32m━━━━━━━━━━━━━━━━━━━━\u001b[0m\u001b[37m\u001b[0m \u001b[1m21s\u001b[0m 10ms/step - loss: 1.5103e-04 - val_loss: 6.1327e-05\n",
      "Epoch 90/100\n",
      "\u001b[1m1324/1324\u001b[0m \u001b[32m━━━━━━━━━━━━━━━━━━━━\u001b[0m\u001b[37m\u001b[0m \u001b[1m20s\u001b[0m 9ms/step - loss: 1.5749e-04 - val_loss: 6.4619e-05\n",
      "Epoch 91/100\n",
      "\u001b[1m1324/1324\u001b[0m \u001b[32m━━━━━━━━━━━━━━━━━━━━\u001b[0m\u001b[37m\u001b[0m \u001b[1m21s\u001b[0m 9ms/step - loss: 1.2490e-04 - val_loss: 6.2858e-05\n",
      "Epoch 92/100\n",
      "\u001b[1m1324/1324\u001b[0m \u001b[32m━━━━━━━━━━━━━━━━━━━━\u001b[0m\u001b[37m\u001b[0m \u001b[1m21s\u001b[0m 9ms/step - loss: 1.3833e-04 - val_loss: 6.0893e-05\n",
      "Epoch 93/100\n",
      "\u001b[1m1324/1324\u001b[0m \u001b[32m━━━━━━━━━━━━━━━━━━━━\u001b[0m\u001b[37m\u001b[0m \u001b[1m13s\u001b[0m 10ms/step - loss: 1.3937e-04 - val_loss: 6.1737e-05\n",
      "Epoch 94/100\n",
      "\u001b[1m1324/1324\u001b[0m \u001b[32m━━━━━━━━━━━━━━━━━━━━\u001b[0m\u001b[37m\u001b[0m \u001b[1m19s\u001b[0m 8ms/step - loss: 1.7964e-04 - val_loss: 6.0837e-05\n",
      "Epoch 95/100\n",
      "\u001b[1m1324/1324\u001b[0m \u001b[32m━━━━━━━━━━━━━━━━━━━━\u001b[0m\u001b[37m\u001b[0m \u001b[1m21s\u001b[0m 9ms/step - loss: 1.4994e-04 - val_loss: 6.4632e-05\n",
      "Epoch 96/100\n",
      "\u001b[1m1324/1324\u001b[0m \u001b[32m━━━━━━━━━━━━━━━━━━━━\u001b[0m\u001b[37m\u001b[0m \u001b[1m13s\u001b[0m 10ms/step - loss: 2.0047e-04 - val_loss: 6.4415e-05\n",
      "Epoch 97/100\n",
      "\u001b[1m1324/1324\u001b[0m \u001b[32m━━━━━━━━━━━━━━━━━━━━\u001b[0m\u001b[37m\u001b[0m \u001b[1m20s\u001b[0m 9ms/step - loss: 1.6422e-04 - val_loss: 6.5523e-05\n",
      "Epoch 98/100\n",
      "\u001b[1m1324/1324\u001b[0m \u001b[32m━━━━━━━━━━━━━━━━━━━━\u001b[0m\u001b[37m\u001b[0m \u001b[1m12s\u001b[0m 9ms/step - loss: 1.9993e-04 - val_loss: 6.4378e-05\n",
      "Epoch 99/100\n",
      "\u001b[1m1324/1324\u001b[0m \u001b[32m━━━━━━━━━━━━━━━━━━━━\u001b[0m\u001b[37m\u001b[0m \u001b[1m20s\u001b[0m 9ms/step - loss: 2.5837e-04 - val_loss: 6.1283e-05\n",
      "Epoch 100/100\n",
      "\u001b[1m1324/1324\u001b[0m \u001b[32m━━━━━━━━━━━━━━━━━━━━\u001b[0m\u001b[37m\u001b[0m \u001b[1m13s\u001b[0m 9ms/step - loss: 1.8897e-04 - val_loss: 6.1931e-05\n"
     ]
    }
   ],
   "source": [
    "# Melatih model\n",
    "history = model.fit(X_train, y_train, \n",
    "                   epochs=100,\n",
    "                   batch_size=32,\n",
    "                   validation_split=0.2,\n",
    "                   verbose=1)"
   ]
  },
  {
   "cell_type": "code",
   "execution_count": 39,
   "metadata": {},
   "outputs": [
    {
     "data": {
      "image/png": "[encoded data removed]",
      "text/plain": [
       "<Figure size 1200x600 with 1 Axes>"
      ]
     },
     "metadata": {},
     "output_type": "display_data"
    }
   ],
   "source": [
    "# Visualisasi hasil training\n",
    "import matplotlib.pyplot as plt\n",
    "\n",
    "plt.figure(figsize=(12, 6))\n",
    "plt.plot(history.history['loss'], label='Training Loss')\n",
    "plt.plot(history.history['val_loss'], label='Validation Loss')\n",
    "plt.title('Model Loss')\n",
    "plt.xlabel('Epoch')\n",
    "plt.ylabel('Loss')\n",
    "plt.legend()\n",
    "plt.show()"
   ]
  }
 ],
 "metadata": {
  "kernelspec": {
   "display_name": "Python 3",
   "language": "python",
   "name": "python3"
  },
  "language_info": {
   "codemirror_mode": {
    "name": "ipython",
    "version": 3
   },
   "file_extension": ".py",
   "mimetype": "text/x-python",
   "name": "python",
   "nbconvert_exporter": "python",
   "pygments_lexer": "ipython3",
   "version": "3.12.6"
  }
 },
 "nbformat": 4,
 "nbformat_minor": 4
}
