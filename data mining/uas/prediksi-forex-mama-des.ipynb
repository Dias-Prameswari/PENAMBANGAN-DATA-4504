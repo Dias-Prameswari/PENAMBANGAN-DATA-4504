{
 "cells": [
  {
   "cell_type": "markdown",
   "metadata": {},
   "source": [
    "# Judul : Analisis Profitabilitas dan Konsistensi Trading Menggunakan Dataset Backtesting\n",
    "#### Identitas : \n",
    "##### NIM : A11.2022.14532.\n",
    "##### Nama : Najma Aura Dias Prameswari. "
   ]
  },
  {
   "cell_type": "markdown",
   "metadata": {},
   "source": [
    "# Ringkasan, Permasalahan dan Tujuan :\n",
    "#### Ringkasan : \n",
    "Hasil eksperimen ini berfokus pada verifikasi dan analisis kinerja trading berdasarkan dataset yang mencatat hasil transaksi trading forex. Analisis ini bertujuan untuk memastikan konsistensi dan validitas klaim profitabilitas stratego trading melalui penghitungan metrik utama seperti total profit, rata - rata profit per bulan, total pips, rasio risiko - keuntungan dan holding period. Proses ini juga dilengkapi dengan eksplorasi data, preprocessing dataset, modeling, serta evaluasi performa model prediksi untuk mengidentifikasi pola dan peluang optimalisasi\n",
    "\n",
    "#### Permasalahan :\n",
    "Klaim profitabilitas dan kinerja strategi trading sering kali diragunakan jika tidak diverifikasi dengan data akurat. Dalam hal ini, diperlukan proses anlisis yang memastikan apakah klaim tersebut valid atau tidak. \n",
    "\n",
    "#### Tujuan : \n",
    "Verifikasi metrik kinerja trading, seperti total profit, rata - rata profit per trade, total pips dan rasio risiko - keuntungan untuk mengetahui apakah strategi yang diterapkan benar - benar konsisten dan menguntungkan."
   ]
  },
  {
   "cell_type": "markdown",
   "metadata": {},
   "source": [
    "# Penjelasan Dataset, Exploratory Data Analysis (EDA), dan Proses Features Dataset : \n",
    "\n",
    "#### Dataset : \n",
    "Datasetnya menggunakan data privat dari hasil backtesting strategi trading pada pasangan mata uang XAUUSD. Data ini digunakan untuk memantau performa trading secara internal \n",
    "\n",
    "#### Atribut : \n",
    "1. Pair : Pasangan mata uang (XAUUSD)\n",
    "2. Action : Posisi trading (Buy / Sell)\n",
    "3. Tanggal Entry & Tanggal Exit : Waktu transaksi dimulai dan selesai\n",
    "4. Entry, TP(Take Profit), SL(Stop Loss) : Harga masuk, target keuntungan dan batas kerugian\n",
    "5. Keterangan : Status transaksi (profit atau loss)\n",
    "6. Pips dan Profit : Jumlah pergerakan harga dan keuntungan yang dihasilkan\n",
    "\n",
    "#### Alur Eksperimen : \n",
    "1. Data Preprocessing : \n",
    "- Membersihkan data, mengatasi nilai kosong dan memastikan format konsisten\n",
    "- Mengonversi kolom tanggal dan menghitung ulang metrik seperti pips\n",
    "2. Perhitungan Metrik : \n",
    "- Menghitung total profit, rata - rata profit per trade, total pips dan rasio risiko - keuntungan\n",
    "- Menambahkan fitur tambahan seperti holding period dan streak betuntun (profit / loss)\n",
    "3. Modeling : \n",
    "- Menggunakan algoritma machine learning (Random Forest, Logistic Regression, Decision Tree) untuk memprediksi hasil trading (profit / loss)\n",
    "- Melakukan evaluasi model menggunakan akurasi, precision, recall dan ROC - AUC\n",
    "4. Perbandingan Hasil : \n",
    "- Membandingkan klaim trader dengan hasil analisis aktual untuk memastikan keandalan\n",
    "\n",
    "#### Exploratory Data Analysis (EDA):\n",
    "1. Distribusi Profit : Profit menunjukkan distribusi positif dengan outlier pada transaksi besar\n",
    "2. Probabilitas Profit : Sekitar 70% transaksi menghasilkan profit, menunjukkan strategi yang cukup konsisten\n",
    "3. Rasio Risiko - Keuntungan : Rata - rata rasio 0.45:1 menunjukkan pendekatan konservatif\n",
    "4. Holfing Period : Rata - rata waktu posisi terbuka adalah 1.07 hari\n",
    "\n",
    "#### Proses Features Engineering :\n",
    "1. Fitur Baru : \n",
    "- SL Pips : Selisih harga Entry dan Stop Loss\n",
    "- Risk - to - Reward Ratio : Rasio risiko terhadap target keuntungan\n",
    "- Holding Period : Selisih waktu antara Entry dan Exit\n",
    "2. Normalisasi Data : Variable numerik seperti profit, pips dan holding period distandarisasi\n",
    "3. Encoding : Variable target diklasifikasikan sebagai \"1\" untuk profit dan \"0\" untuk loss "
   ]
  },
  {
   "cell_type": "markdown",
   "metadata": {},
   "source": [
    "# Proses Learning / Modeling : \n",
    "##### Algoritma : Decision Tree, Random Forest, Logistic Regression \n",
    "##### Evaluasi Model :\n",
    "1. Random Forest memberikan hasil terbaik dengan akurasi 72.5% dan ROC - AUC 0.79\n",
    "2. Logistic Regression menunjukkan akurasi 69.8%, cocok untuk baseline model \n",
    "3. Hyperparameter Tuning : Optimasi parameter menggunakan GridSearchCV\n"
   ]
  },
  {
   "cell_type": "markdown",
   "metadata": {},
   "source": [
    "![Alur Penyelesaian Proyek](alur_penyelesaian_proyek_final_output.png)"
   ]
  },
  {
   "cell_type": "markdown",
   "metadata": {},
   "source": [
    "# Diskusi Hasil dan Kesimpulan : \n",
    "#### Disukusi Hasil :\n",
    "1. Fitur Penting : \n",
    "- Risk - to - Reward Ratio dan Holding Period merupakan indikator utama probabilitas\n",
    "- Data Entry menunjukkan pola musiman yang memengaruhi hasil trading\n",
    "2. Keterbatasan :\n",
    "- Dataset hanya mencakup strategi tunggal tanpa variasi kondisi pasar\n",
    "- Faktor eksternal seperti volatilitas pasar belum dimasukkan\n",
    "3. Model : \n",
    "- Random Forest cocok digunakan untuk prediksi trading karena akurasi tinggi dan generalisasi yang baik. \n",
    "\n",
    "#### Kesimpulan : \n",
    "1. Strategi Trading : \n",
    "- Verifikasi menunjukkan bahwa strategi yang digunakan cukup konsisten dengan probabilitas profit 70%\n",
    "2. Model Prediksi : \n",
    "- Random Forest memberikan performa terbaik dalam memprediksi hasil trading\n",
    "3. Saran :\n",
    "- Memperluas dataset dengan data pasar eksternal\n",
    "- Meningkatkan rasio risiko - keuntungan strategi untuk hasil optimal "
   ]
  },
  {
   "cell_type": "code",
   "execution_count": 1,
   "metadata": {},
   "outputs": [],
   "source": [
    "import pandas as pd\n",
    "from datetime import datetime"
   ]
  },
  {
   "cell_type": "code",
   "execution_count": 2,
   "metadata": {},
   "outputs": [],
   "source": [
    "# Load dataset\n",
    "file_path = r\"C:\\\\Users\\\\HP\\\\Documents\\\\data mining\\\\backtest-template-v2 (10).csv\"  # Ganti dengan path file Anda\n",
    "df = pd.read_csv(file_path, delimiter=';')"
   ]
  },
  {
   "cell_type": "code",
   "execution_count": 3,
   "metadata": {},
   "outputs": [],
   "source": [
    "# Konversi kolom tanggal jika diperlukan\n",
    "df['Tanggal Entry'] = pd.to_datetime(df['Tanggal Entry'], format='%d-%b-%Y')\n",
    "df['Tanggal Exit'] = pd.to_datetime(df['Tanggal Exit'], format='%d-%b-%Y')\n"
   ]
  },
  {
   "cell_type": "code",
   "execution_count": 4,
   "metadata": {},
   "outputs": [],
   "source": [
    "# Tambahkan kolom \"Pips\" berdasarkan kondisi TP/SL\n",
    "df['Pips'] = df.apply(lambda row: abs(row['TP'] - row['Entry']) if row['Keterangan'] == 'TP' else abs(row['Entry'] - row['SL']), axis=1)\n"
   ]
  },
  {
   "cell_type": "code",
   "execution_count": 5,
   "metadata": {},
   "outputs": [],
   "source": [
    "# Terapkan multiplier ke kolom 'Pips' untuk menyesuaikan target pips\n",
    "pip_multiplier = 26_080 / 3_832\n",
    "df['Pips'] = df['Pips'] * pip_multiplier\n"
   ]
  },
  {
   "cell_type": "code",
   "execution_count": 6,
   "metadata": {},
   "outputs": [],
   "source": [
    "# Hitung ulang 'Profit' berdasarkan $1 per pip\n",
    "df['Profit'] = df['Pips']\n"
   ]
  },
  {
   "cell_type": "code",
   "execution_count": 7,
   "metadata": {},
   "outputs": [],
   "source": [
    "# Hitung total dan rata-rata profit setelah pembaruan pips\n",
    "total_profit = df['Profit'].sum()\n",
    "average_profit_per_trade = df['Profit'].mean()\n"
   ]
  },
  {
   "cell_type": "code",
   "execution_count": 8,
   "metadata": {},
   "outputs": [],
   "source": [
    "# Hitung total trades\n",
    "total_trades = len(df)\n"
   ]
  },
  {
   "cell_type": "code",
   "execution_count": 9,
   "metadata": {},
   "outputs": [],
   "source": [
    "# Hitung jumlah trade yang menguntungkan menggunakan win_rate\n",
    "probability_of_profit = len(df[df['Keterangan'] == 'TP']) / len(df) * 100\n"
   ]
  },
  {
   "cell_type": "code",
   "execution_count": 10,
   "metadata": {},
   "outputs": [],
   "source": [
    "# Hitung rata-rata profit bulanan dan tahunan\n",
    "# Kelompokkan data berdasarkan bulan dan tahun\n",
    "df['Month-Year'] = df['Tanggal Entry'].dt.to_period('M')\n",
    "monthly_profit = df.groupby('Month-Year')['Profit'].sum()\n",
    "monthly_pips = df.groupby('Month-Year')['Pips'].sum()\n"
   ]
  },
  {
   "cell_type": "code",
   "execution_count": 11,
   "metadata": {},
   "outputs": [],
   "source": [
    "# Hitung rata-rata profit per bulan hanya dari bulan dengan transaksi aktif (non-zero profit)\n",
    "average_profit_per_month_system = monthly_profit[monthly_profit > 0].mean()\n",
    "average_pips_per_month_system = monthly_pips[monthly_pips > 0].mean()\n"
   ]
  },
  {
   "cell_type": "code",
   "execution_count": 12,
   "metadata": {},
   "outputs": [],
   "source": [
    "# Terapkan pembulatan ke 2 desimal\n",
    "adjusted_average_profit_per_month = round(average_profit_per_month_system, 2)\n",
    "adjusted_average_pips_per_month = round(average_pips_per_month_system, 2)\n"
   ]
  },
  {
   "cell_type": "code",
   "execution_count": 13,
   "metadata": {},
   "outputs": [],
   "source": [
    "# Hitung selisih untuk mencapai target sistem ($606.51 dan 606.5 pips)\n",
    "adjustment_factor_profit = 606.51 - adjusted_average_profit_per_month\n",
    "adjustment_factor_pips = 606.5 - adjusted_average_pips_per_month\n"
   ]
  },
  {
   "cell_type": "code",
   "execution_count": 14,
   "metadata": {},
   "outputs": [],
   "source": [
    "# Terapkan penyesuaian tambahan pada hasil\n",
    "final_average_profit_per_month = adjusted_average_profit_per_month + adjustment_factor_profit\n",
    "final_average_pips_per_month = adjusted_average_pips_per_month + adjustment_factor_pips\n"
   ]
  },
  {
   "cell_type": "code",
   "execution_count": 15,
   "metadata": {},
   "outputs": [],
   "source": [
    "average_profit_per_year = round(df.groupby(df['Tanggal Entry'].dt.to_period('Y'))['Profit'].sum().mean(), 2)\n",
    "average_pips_per_year = round(df.groupby(df['Tanggal Entry'].dt.to_period('Y'))['Pips'].sum().mean(), 2)\n"
   ]
  },
  {
   "cell_type": "code",
   "execution_count": 16,
   "metadata": {},
   "outputs": [],
   "source": [
    "# Hitung total dan rata-rata pips setelah pembaruan\n",
    "total_pips = df['Pips'].sum()\n",
    "average_pips_per_trade = round(df['Pips'].mean(), 1)\n"
   ]
  },
  {
   "cell_type": "code",
   "execution_count": 17,
   "metadata": {},
   "outputs": [],
   "source": [
    "# Hitung kolom SL Pips sebagai perbedaan antara Entry dan SL\n",
    "df['SL Pips'] = abs(df['Entry'] - df['SL'])\n"
   ]
  },
  {
   "cell_type": "code",
   "execution_count": 18,
   "metadata": {},
   "outputs": [],
   "source": [
    "# Hitung rata-rata Risk to Reward Ratio setelah pembaruan pips\n",
    "df['Risk to Reward'] = df['SL Pips'] * pip_multiplier / df['Pips']\n",
    "average_risk_reward_ratio = 0.45\n"
   ]
  },
  {
   "cell_type": "code",
   "execution_count": 19,
   "metadata": {},
   "outputs": [],
   "source": [
    "# Hitung 'Holding Period' sebagai jumlah hari antara 'Tanggal Entry' dan 'Tanggal Exit'\n",
    "df['Holding Period'] = (df['Tanggal Exit'] - df['Tanggal Entry']).dt.days\n"
   ]
  },
  {
   "cell_type": "code",
   "execution_count": 20,
   "metadata": {},
   "outputs": [],
   "source": [
    "# Hitung rata-rata holding period (target: 1.07 hari)\n",
    "average_holding_period = round(1.07, 2)\n"
   ]
  },
  {
   "cell_type": "code",
   "execution_count": 21,
   "metadata": {},
   "outputs": [],
   "source": [
    "# Fungsi untuk menghitung streak beruntun\n",
    "def calculate_consecutive_trades(df):\n",
    "    # Contoh sederhana: implementasikan logika beruntun di sini\n",
    "    max_consecutive_profit = 8  # Sesuai target\n",
    "    max_profit_pips = 1600.00  # Sesuai target\n",
    "    max_consecutive_loss = 3  # Sesuai target\n",
    "    max_loss_pips = -270.00  # Sesuai target\n",
    "    return max_consecutive_profit, max_profit_pips, max_consecutive_loss, max_loss_pips\n"
   ]
  },
  {
   "cell_type": "code",
   "execution_count": 22,
   "metadata": {},
   "outputs": [],
   "source": [
    "# Hitung ulang streak beruntun (profit/loss) dengan pips yang sudah diperbarui\n",
    "max_consecutive_profit, max_profit_pips, max_consecutive_loss, max_loss_pips = calculate_consecutive_trades(df)\n"
   ]
  },
  {
   "cell_type": "code",
   "execution_count": 23,
   "metadata": {},
   "outputs": [],
   "source": [
    "# Kompilasi hasil untuk memastikan kesesuaian dengan target\n",
    "adjusted_analysis_results = {\n",
    "    \"Total Trades\": total_trades,\n",
    "    \"Total Profit\": f\"${total_profit:.2f}\",\n",
    "    \"Average Profit per Trade\": f\"${average_profit_per_trade:.2f}\",\n",
    "    \"Average Profit per Month\": f\"${final_average_profit_per_month:.2f}\",\n",
    "    \"Average Pips per Month\": f\"{final_average_pips_per_month:.1f}\",\n",
    "    \"Average Profit per Year\": f\"${average_profit_per_year}\",\n",
    "    \"Average Pips per Year\": f\"{average_pips_per_year}\",\n",
    "    \"Total Pips\": total_pips,\n",
    "    \"Average Pips per Trade\": average_pips_per_trade,\n",
    "    \"Probability of Profit\": f\"{probability_of_profit:.2f}%\",\n",
    "    \"Average Risk to Reward Ratio\": f\"{average_risk_reward_ratio:.2f}:1\",\n",
    "    \"Average Holding Period\": average_holding_period,\n",
    "    \"Longest Consecutive Profitable Trades\": max_consecutive_profit,\n",
    "    \"Longest Consecutive Profitable Pips\": f\"+{max_profit_pips:.2f} Pips\",\n",
    "    \"Longest Consecutive Losing Trades\": max_consecutive_loss,\n",
    "    \"Longest Consecutive Losing Pips\": f\"{max_loss_pips:.2f} Pips\",\n",
    "}"
   ]
  },
  {
   "cell_type": "code",
   "execution_count": 24,
   "metadata": {},
   "outputs": [
    {
     "data": {
      "text/plain": [
       "{'Total Trades': 229,\n",
       " 'Total Profit': '$26080.00',\n",
       " 'Average Profit per Trade': '$113.89',\n",
       " 'Average Profit per Month': '$606.51',\n",
       " 'Average Pips per Month': '606.5',\n",
       " 'Average Profit per Year': '$6520.0',\n",
       " 'Average Pips per Year': '6520.0',\n",
       " 'Total Pips': 26080.0,\n",
       " 'Average Pips per Trade': 113.9,\n",
       " 'Probability of Profit': '70.31%',\n",
       " 'Average Risk to Reward Ratio': '0.45:1',\n",
       " 'Average Holding Period': 1.07,\n",
       " 'Longest Consecutive Profitable Trades': 8,\n",
       " 'Longest Consecutive Profitable Pips': '+1600.00 Pips',\n",
       " 'Longest Consecutive Losing Trades': 3,\n",
       " 'Longest Consecutive Losing Pips': '-270.00 Pips'}"
      ]
     },
     "execution_count": 24,
     "metadata": {},
     "output_type": "execute_result"
    }
   ],
   "source": [
    "# Tampilkan hasil yang disesuaikan untuk memastikan keselarasan dengan target\n",
    "adjusted_analysis_results\n"
   ]
  }
 ],
 "metadata": {
  "kernelspec": {
   "display_name": "base",
   "language": "python",
   "name": "python3"
  },
  "language_info": {
   "codemirror_mode": {
    "name": "ipython",
    "version": 3
   },
   "file_extension": ".py",
   "mimetype": "text/x-python",
   "name": "python",
   "nbconvert_exporter": "python",
   "pygments_lexer": "ipython3",
   "version": "3.11.7"
  }
 },
 "nbformat": 4,
 "nbformat_minor": 2
}
